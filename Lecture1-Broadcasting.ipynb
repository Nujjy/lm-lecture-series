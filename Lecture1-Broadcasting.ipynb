{
 "cells": [
  {
   "cell_type": "code",
   "execution_count": 1,
   "id": "a8c7142d-947c-495e-b1af-0b9d385aa21d",
   "metadata": {},
   "outputs": [],
   "source": [
    "import torch"
   ]
  },
  {
   "cell_type": "code",
   "execution_count": null,
   "id": "6c8322d6-adec-4748-a2fc-166c544a0c7f",
   "metadata": {},
   "outputs": [],
   "source": [
    "## Elementwise Operations"
   ]
  },
  {
   "cell_type": "code",
   "execution_count": 234,
   "id": "41885916-30f2-4677-8c80-e2c3b4c6fa8f",
   "metadata": {},
   "outputs": [],
   "source": [
    "torch.manual_seed(0)\n",
    "x = torch.randint(0,2,(2,3,4,5))\n",
    "y = torch.randint(0,2,(1,3,4,5))"
   ]
  },
  {
   "cell_type": "code",
   "execution_count": 235,
   "id": "2961c07a-fd00-4432-9285-6e47eb9dbe66",
   "metadata": {},
   "outputs": [
    {
     "ename": "SyntaxError",
     "evalue": "invalid syntax (2356236741.py, line 1)",
     "output_type": "error",
     "traceback": [
      "\u001b[0;36m  Cell \u001b[0;32mIn[235], line 1\u001b[0;36m\u001b[0m\n\u001b[0;31m    2 3 4 5\u001b[0m\n\u001b[0m      ^\u001b[0m\n\u001b[0;31mSyntaxError\u001b[0m\u001b[0;31m:\u001b[0m invalid syntax\n"
     ]
    }
   ],
   "source": [
    "2 3 4 5\n",
    "  1 4 5"
   ]
  },
  {
   "cell_type": "code",
   "execution_count": 236,
   "id": "d9450bf4-fafd-4453-bd2d-c1ba23f67d41",
   "metadata": {},
   "outputs": [],
   "source": [
    "# The number of dimensions of each tensor is at least 1.\n",
    "# The size of the last dimension of the first tensor is equal to the size of the second to last dimension of the second tensor.\n",
    "# The remaining dimensions of the two tensors are either equal or one of them is 1. In the latter case, the tensor with size 1 will be broadcasted to match the size of the other tensor along that dimension.\n"
   ]
  },
  {
   "cell_type": "code",
   "execution_count": 237,
   "id": "02a85172-40be-4827-9884-2ec03a3a1182",
   "metadata": {},
   "outputs": [
    {
     "data": {
      "text/plain": [
       "tensor([[[[1, 1, 1, 1, 1],\n",
       "          [0, 1, 1, 1, 1],\n",
       "          [0, 1, 1, 0, 0],\n",
       "          [1, 0, 0, 0, 0]],\n",
       "\n",
       "         [[1, 1, 0, 0, 1],\n",
       "          [0, 1, 1, 1, 1],\n",
       "          [0, 0, 0, 1, 0],\n",
       "          [1, 1, 1, 0, 1]],\n",
       "\n",
       "         [[0, 0, 1, 0, 1],\n",
       "          [1, 0, 0, 1, 0],\n",
       "          [1, 0, 1, 0, 1],\n",
       "          [0, 1, 0, 0, 0]]]])"
      ]
     },
     "execution_count": 237,
     "metadata": {},
     "output_type": "execute_result"
    }
   ],
   "source": [
    "y"
   ]
  },
  {
   "cell_type": "code",
   "execution_count": 232,
   "id": "45e3b08e-a7c0-478e-b28e-f96b44b62cb0",
   "metadata": {},
   "outputs": [
    {
     "data": {
      "text/plain": [
       "tensor([[[[0, 1, 1, 0, 1],\n",
       "          [1, 1, 1, 1, 1],\n",
       "          [1, 0, 0, 1, 0],\n",
       "          [0, 0, 0, 0, 1]],\n",
       "\n",
       "         [[0, 1, 1, 0, 0],\n",
       "          [1, 1, 1, 1, 0],\n",
       "          [1, 0, 1, 0, 1],\n",
       "          [1, 0, 1, 1, 0]],\n",
       "\n",
       "         [[0, 1, 0, 1, 1],\n",
       "          [1, 1, 1, 0, 1],\n",
       "          [0, 1, 1, 1, 1],\n",
       "          [0, 1, 0, 0, 1]]],\n",
       "\n",
       "\n",
       "        [[[1, 0, 1, 0, 1],\n",
       "          [0, 0, 0, 0, 0],\n",
       "          [1, 1, 0, 0, 0],\n",
       "          [1, 1, 0, 1, 0]],\n",
       "\n",
       "         [[0, 1, 0, 1, 1],\n",
       "          [1, 1, 1, 1, 0],\n",
       "          [1, 1, 0, 0, 1],\n",
       "          [0, 0, 1, 1, 0]],\n",
       "\n",
       "         [[1, 0, 0, 1, 0],\n",
       "          [0, 0, 1, 1, 0],\n",
       "          [1, 0, 0, 0, 0],\n",
       "          [0, 1, 0, 1, 0]]]])"
      ]
     },
     "execution_count": 232,
     "metadata": {},
     "output_type": "execute_result"
    }
   ],
   "source": [
    "x +   "
   ]
  },
  {
   "cell_type": "code",
   "execution_count": 238,
   "id": "545566be-2204-4a1b-92b8-9b9c0ca9bd46",
   "metadata": {},
   "outputs": [
    {
     "data": {
      "text/plain": [
       "tensor([[[[1, 2, 2, 1, 2],\n",
       "          [1, 2, 2, 2, 2],\n",
       "          [1, 1, 1, 1, 0],\n",
       "          [1, 0, 0, 0, 1]],\n",
       "\n",
       "         [[1, 2, 1, 0, 1],\n",
       "          [1, 2, 2, 2, 1],\n",
       "          [1, 0, 1, 1, 1],\n",
       "          [2, 1, 2, 1, 1]],\n",
       "\n",
       "         [[0, 1, 1, 1, 2],\n",
       "          [2, 1, 1, 1, 1],\n",
       "          [1, 1, 2, 1, 2],\n",
       "          [0, 2, 0, 0, 1]]],\n",
       "\n",
       "\n",
       "        [[[2, 1, 2, 1, 2],\n",
       "          [0, 1, 1, 1, 1],\n",
       "          [1, 2, 1, 0, 0],\n",
       "          [2, 1, 0, 1, 0]],\n",
       "\n",
       "         [[1, 2, 0, 1, 2],\n",
       "          [1, 2, 2, 2, 1],\n",
       "          [1, 1, 0, 1, 1],\n",
       "          [1, 1, 2, 1, 1]],\n",
       "\n",
       "         [[1, 0, 1, 1, 1],\n",
       "          [1, 0, 1, 2, 0],\n",
       "          [2, 0, 1, 0, 1],\n",
       "          [0, 2, 0, 1, 0]]]])"
      ]
     },
     "execution_count": 238,
     "metadata": {},
     "output_type": "execute_result"
    }
   ],
   "source": [
    "x + y"
   ]
  },
  {
   "cell_type": "code",
   "execution_count": 213,
   "id": "5baa8297-2902-453d-b4d4-478719cd2625",
   "metadata": {},
   "outputs": [
    {
     "ename": "SyntaxError",
     "evalue": "invalid syntax (3019212316.py, line 1)",
     "output_type": "error",
     "traceback": [
      "\u001b[0;36m  Cell \u001b[0;32mIn[213], line 1\u001b[0;36m\u001b[0m\n\u001b[0;31m    2 3 4 5\u001b[0m\n\u001b[0m      ^\u001b[0m\n\u001b[0;31mSyntaxError\u001b[0m\u001b[0;31m:\u001b[0m invalid syntax\n"
     ]
    }
   ],
   "source": [
    "2 3 4 5\n",
    "3 2   5 1"
   ]
  },
  {
   "cell_type": "code",
   "execution_count": 214,
   "id": "a7f92338-2429-45cf-ba1f-c2ac155f6a08",
   "metadata": {},
   "outputs": [
    {
     "ename": "SyntaxError",
     "evalue": "invalid syntax (1893531924.py, line 1)",
     "output_type": "error",
     "traceback": [
      "\u001b[0;36m  Cell \u001b[0;32mIn[214], line 1\u001b[0;36m\u001b[0m\n\u001b[0;31m    3 2 4 5\u001b[0m\n\u001b[0m      ^\u001b[0m\n\u001b[0;31mSyntaxError\u001b[0m\u001b[0;31m:\u001b[0m invalid syntax\n"
     ]
    }
   ],
   "source": [
    "3 2 4 5\n",
    "3 2 5 3"
   ]
  },
  {
   "cell_type": "code",
   "execution_count": 150,
   "id": "ce95ea8c-af13-48b5-9957-1c4238177cbf",
   "metadata": {},
   "outputs": [
    {
     "data": {
      "text/plain": [
       "(2, 3, 3, 5, 3)"
      ]
     },
     "execution_count": 150,
     "metadata": {},
     "output_type": "execute_result"
    }
   ],
   "source": [
    "3,2,3,4,5\n",
    "2,3,3,5,3"
   ]
  },
  {
   "cell_type": "code",
   "execution_count": 151,
   "id": "c9275fd9-2b78-4099-8741-f71731854676",
   "metadata": {},
   "outputs": [
    {
     "data": {
      "text/plain": [
       "tensor([[[[[0, 1, 1, 0, 1],\n",
       "           [1, 1, 1, 1, 1],\n",
       "           [1, 0, 0, 1, 0],\n",
       "           [0, 0, 0, 0, 1]],\n",
       "\n",
       "          [[0, 1, 1, 0, 0],\n",
       "           [1, 1, 1, 1, 0],\n",
       "           [1, 0, 1, 0, 1],\n",
       "           [1, 0, 1, 1, 0]],\n",
       "\n",
       "          [[0, 1, 0, 1, 1],\n",
       "           [1, 1, 1, 0, 1],\n",
       "           [0, 1, 1, 1, 1],\n",
       "           [0, 1, 0, 0, 1]]],\n",
       "\n",
       "\n",
       "         [[[1, 0, 1, 0, 1],\n",
       "           [0, 0, 0, 0, 0],\n",
       "           [1, 1, 0, 0, 0],\n",
       "           [1, 1, 0, 1, 0]],\n",
       "\n",
       "          [[0, 1, 0, 1, 1],\n",
       "           [1, 1, 1, 1, 0],\n",
       "           [1, 1, 0, 0, 1],\n",
       "           [0, 0, 1, 1, 0]],\n",
       "\n",
       "          [[1, 0, 0, 1, 0],\n",
       "           [0, 0, 1, 1, 0],\n",
       "           [1, 0, 0, 0, 0],\n",
       "           [0, 1, 0, 1, 0]]]],\n",
       "\n",
       "\n",
       "\n",
       "        [[[[1, 1, 1, 1, 1],\n",
       "           [0, 1, 1, 1, 1],\n",
       "           [0, 1, 1, 0, 0],\n",
       "           [1, 0, 0, 0, 0]],\n",
       "\n",
       "          [[1, 1, 0, 0, 1],\n",
       "           [0, 1, 1, 1, 1],\n",
       "           [0, 0, 0, 1, 0],\n",
       "           [1, 1, 1, 0, 1]],\n",
       "\n",
       "          [[0, 0, 1, 0, 1],\n",
       "           [1, 0, 0, 1, 0],\n",
       "           [1, 0, 1, 0, 1],\n",
       "           [0, 1, 0, 0, 0]]],\n",
       "\n",
       "\n",
       "         [[[1, 0, 1, 0, 1],\n",
       "           [0, 0, 0, 0, 0],\n",
       "           [1, 0, 0, 1, 0],\n",
       "           [0, 0, 1, 0, 0]],\n",
       "\n",
       "          [[1, 0, 1, 0, 0],\n",
       "           [1, 1, 0, 0, 0],\n",
       "           [1, 1, 0, 0, 0],\n",
       "           [0, 0, 1, 0, 1]],\n",
       "\n",
       "          [[0, 0, 0, 1, 1],\n",
       "           [1, 0, 0, 1, 1],\n",
       "           [1, 1, 0, 0, 0],\n",
       "           [1, 1, 0, 1, 0]]]],\n",
       "\n",
       "\n",
       "\n",
       "        [[[[0, 1, 0, 1, 1],\n",
       "           [1, 1, 0, 0, 0],\n",
       "           [1, 1, 1, 0, 1],\n",
       "           [1, 1, 1, 0, 0]],\n",
       "\n",
       "          [[1, 1, 0, 0, 0],\n",
       "           [1, 1, 0, 1, 1],\n",
       "           [1, 1, 1, 0, 0],\n",
       "           [0, 1, 0, 1, 0]],\n",
       "\n",
       "          [[1, 1, 0, 0, 0],\n",
       "           [1, 0, 0, 1, 1],\n",
       "           [1, 1, 0, 1, 0],\n",
       "           [0, 0, 0, 1, 1]]],\n",
       "\n",
       "\n",
       "         [[[1, 0, 1, 0, 0],\n",
       "           [1, 1, 1, 1, 1],\n",
       "           [1, 0, 0, 1, 1],\n",
       "           [1, 1, 1, 1, 1]],\n",
       "\n",
       "          [[1, 1, 1, 0, 0],\n",
       "           [0, 0, 1, 1, 1],\n",
       "           [0, 1, 1, 1, 1],\n",
       "           [1, 1, 1, 0, 0]],\n",
       "\n",
       "          [[0, 0, 1, 1, 0],\n",
       "           [1, 0, 0, 1, 0],\n",
       "           [1, 0, 1, 0, 0],\n",
       "           [0, 0, 1, 1, 1]]]]])"
      ]
     },
     "execution_count": 151,
     "metadata": {},
     "output_type": "execute_result"
    }
   ],
   "source": [
    "x"
   ]
  },
  {
   "cell_type": "code",
   "execution_count": 140,
   "id": "8fa20de9-1195-4dec-9758-04fb89dcb1a0",
   "metadata": {},
   "outputs": [],
   "source": [
    "y = torch.randint(0, 2, (2, 3, 3, 5, 3)).transpose(1, 2)"
   ]
  },
  {
   "cell_type": "code",
   "execution_count": 143,
   "id": "858b6067-ae05-4c67-ba77-3e5d531f84ed",
   "metadata": {},
   "outputs": [
    {
     "ename": "RuntimeError",
     "evalue": "The size of tensor a (2) must match the size of tensor b (3) at non-singleton dimension 1",
     "output_type": "error",
     "traceback": [
      "\u001b[0;31m---------------------------------------------------------------------------\u001b[0m",
      "\u001b[0;31mRuntimeError\u001b[0m                              Traceback (most recent call last)",
      "Cell \u001b[0;32mIn[143], line 3\u001b[0m\n\u001b[1;32m      1\u001b[0m x \u001b[38;5;241m=\u001b[39m torch\u001b[38;5;241m.\u001b[39mrandint(\u001b[38;5;241m0\u001b[39m, \u001b[38;5;241m2\u001b[39m, (\u001b[38;5;241m3\u001b[39m, \u001b[38;5;241m2\u001b[39m, \u001b[38;5;241m3\u001b[39m, \u001b[38;5;241m4\u001b[39m, \u001b[38;5;241m5\u001b[39m))\n\u001b[1;32m      2\u001b[0m y \u001b[38;5;241m=\u001b[39m torch\u001b[38;5;241m.\u001b[39mrandint(\u001b[38;5;241m0\u001b[39m, \u001b[38;5;241m2\u001b[39m, (\u001b[38;5;241m2\u001b[39m, \u001b[38;5;241m3\u001b[39m, \u001b[38;5;241m3\u001b[39m, \u001b[38;5;241m5\u001b[39m, \u001b[38;5;241m3\u001b[39m))\u001b[38;5;241m.\u001b[39mtranspose(\u001b[38;5;241m1\u001b[39m, \u001b[38;5;241m2\u001b[39m)\n\u001b[0;32m----> 3\u001b[0m z \u001b[38;5;241m=\u001b[39m \u001b[43mx\u001b[49m\u001b[43m \u001b[49m\u001b[38;5;241;43m@\u001b[39;49m\u001b[43m \u001b[49m\u001b[43my\u001b[49m\n",
      "\u001b[0;31mRuntimeError\u001b[0m: The size of tensor a (2) must match the size of tensor b (3) at non-singleton dimension 1"
     ]
    }
   ],
   "source": [
    "x = torch.randint(0, 2, (3, 2, 3, 4, 5))\n",
    "y = torch.randint(0, 2, (2, 3, 3, 5, 3)).transpose(1, 2)\n",
    "z = x @ y"
   ]
  },
  {
   "cell_type": "code",
   "execution_count": 128,
   "id": "84afb184-461b-451b-b4f5-9d84cfc0cc69",
   "metadata": {},
   "outputs": [
    {
     "data": {
      "text/plain": [
       "tensor([[[1, 0, 1, 0, 1, 0],\n",
       "         [0, 0, 0, 0, 1, 1],\n",
       "         [0, 0, 0, 1, 1, 0],\n",
       "         [1, 0, 0, 1, 0, 1]],\n",
       "\n",
       "        [[1, 1, 1, 1, 1, 0],\n",
       "         [1, 1, 0, 0, 1, 0],\n",
       "         [0, 1, 1, 0, 1, 0],\n",
       "         [0, 1, 0, 0, 0, 1]],\n",
       "\n",
       "        [[1, 0, 1, 0, 0, 0],\n",
       "         [0, 0, 1, 0, 1, 0],\n",
       "         [1, 1, 1, 1, 1, 0],\n",
       "         [1, 1, 1, 1, 0, 1]]])"
      ]
     },
     "execution_count": 128,
     "metadata": {},
     "output_type": "execute_result"
    }
   ],
   "source": [
    "y"
   ]
  },
  {
   "cell_type": "code",
   "execution_count": 124,
   "id": "95b82cfd-641c-4021-9c24-088baabfa34a",
   "metadata": {},
   "outputs": [
    {
     "data": {
      "text/plain": [
       "tensor([[[0, 1, 1, 0, 1],\n",
       "         [1, 1, 1, 1, 1],\n",
       "         [1, 0, 0, 1, 0],\n",
       "         [0, 0, 0, 0, 1]],\n",
       "\n",
       "        [[0, 1, 1, 0, 0],\n",
       "         [1, 1, 1, 1, 0],\n",
       "         [1, 0, 1, 0, 1],\n",
       "         [1, 0, 1, 1, 0]],\n",
       "\n",
       "        [[0, 1, 0, 1, 1],\n",
       "         [1, 1, 1, 0, 1],\n",
       "         [0, 1, 1, 1, 1],\n",
       "         [0, 1, 0, 0, 1]]])"
      ]
     },
     "execution_count": 124,
     "metadata": {},
     "output_type": "execute_result"
    }
   ],
   "source": [
    "x"
   ]
  },
  {
   "cell_type": "code",
   "execution_count": 36,
   "id": "0e36bc82-8c2a-4721-bfbc-7fd664e2acf0",
   "metadata": {},
   "outputs": [
    {
     "data": {
      "text/plain": [
       "tensor([[[[0, 1, 1, 0],\n",
       "          [1, 1, 1, 1],\n",
       "          [1, 1, 1, 0]],\n",
       "\n",
       "         [[0, 1, 0, 0],\n",
       "          [0, 0, 0, 1],\n",
       "          [0, 1, 1, 0]],\n",
       "\n",
       "         [[0, 1, 1, 1],\n",
       "          [1, 0, 1, 0],\n",
       "          [1, 0, 1, 1]]],\n",
       "\n",
       "\n",
       "        [[[0, 1, 1, 0],\n",
       "          [0, 1, 0, 1],\n",
       "          [1, 1, 1, 1]],\n",
       "\n",
       "         [[0, 1, 0, 1],\n",
       "          [1, 1, 1, 0],\n",
       "          [1, 0, 0, 1]],\n",
       "\n",
       "         [[1, 0, 1, 0],\n",
       "          [1, 0, 0, 0],\n",
       "          [0, 0, 1, 1]]]])"
      ]
     },
     "execution_count": 36,
     "metadata": {},
     "output_type": "execute_result"
    }
   ],
   "source": [
    "x.sh"
   ]
  },
  {
   "cell_type": "code",
   "execution_count": 40,
   "id": "0983df0c-ba24-4cc1-94a0-9783e97ba974",
   "metadata": {},
   "outputs": [
    {
     "data": {
      "text/plain": [
       "tensor([[[0, 1, 0],\n",
       "         [0, 1, 0],\n",
       "         [1, 0, 1]],\n",
       "\n",
       "        [[0, 1, 1],\n",
       "         [1, 0, 1],\n",
       "         [0, 0, 1]]])"
      ]
     },
     "execution_count": 40,
     "metadata": {},
     "output_type": "execute_result"
    }
   ],
   "source": [
    "x @ y"
   ]
  },
  {
   "cell_type": "code",
   "execution_count": 39,
   "id": "affa2737-878c-4030-a836-85b42961d7b2",
   "metadata": {},
   "outputs": [
    {
     "data": {
      "text/plain": [
       "torch.Size([2, 3, 3])"
      ]
     },
     "execution_count": 39,
     "metadata": {},
     "output_type": "execute_result"
    }
   ],
   "source": [
    "(x @ y).shape"
   ]
  },
  {
   "cell_type": "code",
   "execution_count": null,
   "id": "891f2500-ec9f-4476-974b-605b6b708470",
   "metadata": {},
   "outputs": [],
   "source": [
    "# 2 3 3 4\n",
    "#       4"
   ]
  },
  {
   "cell_type": "code",
   "execution_count": 33,
   "id": "42cd6590-12dd-4021-ab90-433c414c8768",
   "metadata": {},
   "outputs": [
    {
     "name": "stdout",
     "output_type": "stream",
     "text": [
      "torch.Size([2, 3, 3, 4])\n",
      "torch.Size([4])\n"
     ]
    },
    {
     "data": {
      "text/plain": [
       "tensor([[[0, 1, 0],\n",
       "         [0, 1, 0],\n",
       "         [1, 0, 1]],\n",
       "\n",
       "        [[0, 1, 1],\n",
       "         [1, 0, 1],\n",
       "         [0, 0, 1]]])"
      ]
     },
     "execution_count": 33,
     "metadata": {},
     "output_type": "execute_result"
    }
   ],
   "source": [
    "print(x.shape)\n",
    "print(y.shape)\n",
    "\n",
    "# 3 x 4\n",
    "# 4 x 1\n",
    "\n",
    "x @ y"
   ]
  },
  {
   "cell_type": "code",
   "execution_count": 83,
   "id": "11a538c3-2062-42be-b601-6b87f7a65f79",
   "metadata": {},
   "outputs": [],
   "source": [
    "A = torch.randint(0,2,(3,4,3,4))\n",
    "B = torch.randint(0,2,(3,4,4,3))\n",
    "\n"
   ]
  },
  {
   "cell_type": "code",
   "execution_count": null,
   "id": "36a07f55-bdd4-41a3-9b3f-c3c1d7b0e111",
   "metadata": {},
   "outputs": [],
   "source": [
    "# 3 4 3 4\n",
    "# 3 4 4 4"
   ]
  },
  {
   "cell_type": "code",
   "execution_count": 90,
   "id": "eb2987d4-179e-4daa-aadb-169690219690",
   "metadata": {},
   "outputs": [
    {
     "data": {
      "text/plain": [
       "torch.Size([1, 4, 3, 4])"
      ]
     },
     "execution_count": 90,
     "metadata": {},
     "output_type": "execute_result"
    }
   ],
   "source": [
    "A.sum(0).unsqueeze(0).shape"
   ]
  },
  {
   "cell_type": "code",
   "execution_count": 75,
   "id": "e3b83b0f-9a92-451c-b273-7824a06843f4",
   "metadata": {},
   "outputs": [
    {
     "data": {
      "text/plain": [
       "torch.Size([3, 4, 4, 3])"
      ]
     },
     "execution_count": 75,
     "metadata": {},
     "output_type": "execute_result"
    }
   ],
   "source": [
    "B.shape"
   ]
  },
  {
   "cell_type": "code",
   "execution_count": 79,
   "id": "67ad7d71-1a8b-41e1-9059-ecd7cd7bd110",
   "metadata": {},
   "outputs": [
    {
     "data": {
      "text/plain": [
       "tensor([[[[0, 1, 0],\n",
       "          [0, 2, 1],\n",
       "          [1, 3, 2]],\n",
       "\n",
       "         [[3, 3, 2],\n",
       "          [2, 3, 2],\n",
       "          [3, 3, 2]],\n",
       "\n",
       "         [[2, 1, 1],\n",
       "          [1, 0, 0],\n",
       "          [2, 1, 1]],\n",
       "\n",
       "         [[0, 1, 0],\n",
       "          [0, 2, 0],\n",
       "          [0, 2, 0]]],\n",
       "\n",
       "\n",
       "        [[[3, 2, 2],\n",
       "          [2, 1, 1],\n",
       "          [3, 1, 2]],\n",
       "\n",
       "         [[0, 0, 0],\n",
       "          [0, 1, 1],\n",
       "          [1, 0, 0]],\n",
       "\n",
       "         [[0, 1, 1],\n",
       "          [1, 1, 0],\n",
       "          [1, 1, 0]],\n",
       "\n",
       "         [[1, 2, 0],\n",
       "          [0, 1, 0],\n",
       "          [1, 2, 0]]],\n",
       "\n",
       "\n",
       "        [[[1, 1, 0],\n",
       "          [1, 2, 1],\n",
       "          [0, 0, 0]],\n",
       "\n",
       "         [[0, 1, 1],\n",
       "          [2, 0, 1],\n",
       "          [2, 0, 1]],\n",
       "\n",
       "         [[0, 0, 0],\n",
       "          [1, 3, 2],\n",
       "          [0, 0, 0]],\n",
       "\n",
       "         [[1, 0, 1],\n",
       "          [0, 0, 0],\n",
       "          [2, 1, 2]]]])"
      ]
     },
     "execution_count": 79,
     "metadata": {},
     "output_type": "execute_result"
    }
   ],
   "source": [
    "(A @ B)"
   ]
  },
  {
   "cell_type": "code",
   "execution_count": 57,
   "id": "835648d0-c6e2-4f72-b020-074fe5a7adf7",
   "metadata": {},
   "outputs": [
    {
     "data": {
      "text/plain": [
       "tensor([[[[1, 1, 1],\n",
       "          [1, 1, 1],\n",
       "          [1, 1, 1]],\n",
       "\n",
       "         [[1, 0, 1],\n",
       "          [1, 0, 1],\n",
       "          [1, 1, 1]],\n",
       "\n",
       "         [[1, 1, 0],\n",
       "          [0, 0, 0],\n",
       "          [1, 0, 0]],\n",
       "\n",
       "         [[1, 1, 0],\n",
       "          [0, 0, 1],\n",
       "          [0, 1, 1]]],\n",
       "\n",
       "\n",
       "        [[[0, 1, 1],\n",
       "          [1, 1, 1],\n",
       "          [1, 1, 0]],\n",
       "\n",
       "         [[1, 1, 0],\n",
       "          [1, 1, 1],\n",
       "          [1, 1, 0]],\n",
       "\n",
       "         [[0, 1, 0],\n",
       "          [1, 0, 1],\n",
       "          [0, 0, 1]],\n",
       "\n",
       "         [[0, 1, 1],\n",
       "          [0, 1, 1],\n",
       "          [0, 0, 0]]],\n",
       "\n",
       "\n",
       "        [[[0, 1, 1],\n",
       "          [1, 1, 0],\n",
       "          [0, 1, 1]],\n",
       "\n",
       "         [[0, 1, 1],\n",
       "          [0, 0, 0],\n",
       "          [1, 1, 1]],\n",
       "\n",
       "         [[0, 1, 0],\n",
       "          [0, 0, 1],\n",
       "          [0, 1, 0]],\n",
       "\n",
       "         [[0, 1, 0],\n",
       "          [0, 0, 1],\n",
       "          [1, 0, 0]]]])"
      ]
     },
     "execution_count": 57,
     "metadata": {},
     "output_type": "execute_result"
    }
   ],
   "source": [
    "A"
   ]
  },
  {
   "cell_type": "code",
   "execution_count": 58,
   "id": "a72cea77-8121-40af-b1a5-0c070515488d",
   "metadata": {},
   "outputs": [
    {
     "data": {
      "text/plain": [
       "tensor([[[0, 1, 1, 0],\n",
       "         [1, 1, 1, 1],\n",
       "         [0, 1, 0, 0]],\n",
       "\n",
       "        [[1, 1, 0, 1],\n",
       "         [1, 0, 0, 1],\n",
       "         [1, 0, 1, 0]],\n",
       "\n",
       "        [[0, 1, 0, 0],\n",
       "         [1, 1, 1, 0],\n",
       "         [1, 1, 0, 0]]])"
      ]
     },
     "execution_count": 58,
     "metadata": {},
     "output_type": "execute_result"
    }
   ],
   "source": [
    "B"
   ]
  },
  {
   "cell_type": "code",
   "execution_count": 47,
   "id": "6c556088-4760-45bc-a45e-36962cb2364e",
   "metadata": {},
   "outputs": [
    {
     "data": {
      "text/plain": [
       "tensor([[[1, 1, 0, 0],\n",
       "         [0, 1, 0, 0],\n",
       "         [0, 2, 0, 0],\n",
       "         [1, 1, 0, 0]],\n",
       "\n",
       "        [[0, 2, 0, 0],\n",
       "         [1, 1, 0, 0],\n",
       "         [0, 1, 0, 0],\n",
       "         [1, 1, 0, 0]],\n",
       "\n",
       "        [[1, 2, 0, 0],\n",
       "         [1, 0, 0, 0],\n",
       "         [0, 1, 0, 0],\n",
       "         [1, 1, 0, 0]]])"
      ]
     },
     "execution_count": 47,
     "metadata": {},
     "output_type": "execute_result"
    }
   ],
   "source": [
    "A @ B"
   ]
  },
  {
   "cell_type": "code",
   "execution_count": null,
   "id": "94ac623a-e27b-4502-a1c2-9a3de45ff5ef",
   "metadata": {},
   "outputs": [],
   "source": []
  }
 ],
 "metadata": {
  "kernelspec": {
   "display_name": "Python 3 (ipykernel)",
   "language": "python",
   "name": "python3"
  },
  "language_info": {
   "codemirror_mode": {
    "name": "ipython",
    "version": 3
   },
   "file_extension": ".py",
   "mimetype": "text/x-python",
   "name": "python",
   "nbconvert_exporter": "python",
   "pygments_lexer": "ipython3",
   "version": "3.10.10"
  }
 },
 "nbformat": 4,
 "nbformat_minor": 5
}
