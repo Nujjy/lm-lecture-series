{
 "cells": [
  {
   "cell_type": "code",
   "execution_count": 20,
   "id": "b5396872-5388-4983-813d-a4f914d6b5d0",
   "metadata": {},
   "outputs": [],
   "source": [
    "import torch"
   ]
  },
  {
   "cell_type": "code",
   "execution_count": 34,
   "id": "2996dfe8-cd78-4372-805d-caf4e261db58",
   "metadata": {},
   "outputs": [
    {
     "data": {
      "text/plain": [
       "Embedding(27, 27)"
      ]
     },
     "execution_count": 34,
     "metadata": {},
     "output_type": "execute_result"
    }
   ],
   "source": [
    "# Example of target with class indices\n",
    "input = torch.randn(3, 5, requires_grad=True)\n",
    "target = torch.randint(5, (3,), dtype=torch.int64)\n",
    "loss = F.cross_entropy(input, target)\n",
    "loss.backward()\n",
    "\n",
    "# Example of target with class probabilities\n",
    "input = torch.randn(3, 5, requires_grad=True)\n",
    "target = torch.randn(3, 5).softmax(dim=1)\n",
    "loss = F.cross_entropy(input, target)\n",
    "loss.backward()"
   ]
  },
  {
   "cell_type": "code",
   "execution_count": 25,
   "id": "d16edb7f-5174-421a-af4c-6ba4314bc375",
   "metadata": {},
   "outputs": [
    {
     "data": {
      "text/plain": [
       "torch.Size([10, 10])"
      ]
     },
     "execution_count": 25,
     "metadata": {},
     "output_type": "execute_result"
    }
   ],
   "source": [
    "E.weight.shape"
   ]
  },
  {
   "cell_type": "code",
   "execution_count": 32,
   "id": "21f6a62f-bc26-4059-9895-483527374a52",
   "metadata": {},
   "outputs": [
    {
     "data": {
      "text/plain": [
       "tensor([1, 0, 0, 0, 0, 0, 0, 0, 0, 0, 0, 0, 0, 0, 0, 0, 0, 0, 0, 0, 0, 0, 0, 0,\n",
       "        0, 0, 0])"
      ]
     },
     "execution_count": 32,
     "metadata": {},
     "output_type": "execute_result"
    }
   ],
   "source": [
    "import torch.nn.functional as F\n"
   ]
  },
  {
   "cell_type": "code",
   "execution_count": 38,
   "id": "e524ee55-3569-4ee8-b448-f068681c8e0b",
   "metadata": {},
   "outputs": [],
   "source": [
    "W = torch.zeros(27,27)\n",
    "W = W.copy_(E.weight)"
   ]
  },
  {
   "cell_type": "code",
   "execution_count": 39,
   "id": "2cdf1cb4-a1fc-4be1-b7e6-e722006f8282",
   "metadata": {},
   "outputs": [
    {
     "data": {
      "text/plain": [
       "tensor([-0.1774, -0.6160,  0.3977, -0.0577, -0.7399, -0.7559,  1.5953,  0.5651,\n",
       "         1.3343, -1.3789, -0.5678, -1.5039, -0.4987, -1.3146,  0.0835,  0.0975,\n",
       "        -0.9133,  0.5722, -0.1154,  0.2475,  0.0028, -0.0922,  1.2365,  1.2031,\n",
       "        -0.3911, -2.4406, -0.7788], grad_fn=<SelectBackward0>)"
      ]
     },
     "execution_count": 39,
     "metadata": {},
     "output_type": "execute_result"
    }
   ],
   "source": [
    "W[0]"
   ]
  },
  {
   "cell_type": "code",
   "execution_count": 82,
   "id": "4e47477f-3867-402c-80d8-e4c807f57126",
   "metadata": {},
   "outputs": [
    {
     "name": "stdout",
     "output_type": "stream",
     "text": [
      "9.489059448242188e-05\n",
      "0.0005228519439697266\n"
     ]
    }
   ],
   "source": [
    "idx = torch.tensor([5,4,2,2,1])\n",
    "\n",
    "\n",
    "\n",
    "## Method 2\n",
    "E = torch.nn.Embedding(27,27)\n",
    "E.weight = torch.nn.Parameter(torch.rand((27,27),dtype=torch.float))\n",
    "import time\n",
    "start = time.time()\n",
    "logits = E(idx)\n",
    "end = time.time()\n",
    "print(end-start)\n",
    "\n",
    "## Method 1\n",
    "W = torch.zeros(27,27)\n",
    "start = time.time()\n",
    "xenc = F.one_hot(idx, num_classes=27).float()\n",
    "logits = xenc @ W\n",
    "end = time.time()\n",
    "print(end-start)\n",
    "\n",
    "\n"
   ]
  },
  {
   "cell_type": "code",
   "execution_count": 47,
   "id": "51056c00-0641-496f-93c0-f6b6cad1fdf2",
   "metadata": {},
   "outputs": [],
   "source": [
    "xenc = F.one_hot(torch.tensor(0), num_classes=27).float()\n",
    "logits = xenc @ W"
   ]
  },
  {
   "cell_type": "code",
   "execution_count": 56,
   "id": "12e1c07b-33df-4b7d-a65c-73322cf0c82a",
   "metadata": {},
   "outputs": [],
   "source": [
    "idx = torch.tensor([5,4,2,2,1])"
   ]
  },
  {
   "cell_type": "code",
   "execution_count": 57,
   "id": "d6bb55fc-b163-47d3-bb43-b93f9419c91e",
   "metadata": {},
   "outputs": [
    {
     "data": {
      "text/plain": [
       "tensor([[-2.4449, -0.5061, -0.0348,  1.2302,  1.6937, -0.3325,  0.9510,  0.0081,\n",
       "         -0.7521,  1.1445, -0.7061,  0.5957, -0.7911,  0.4974,  0.3867,  0.8068,\n",
       "         -1.4098, -0.0309, -1.6821,  0.9585,  0.1551,  0.9879, -1.9270,  1.1380,\n",
       "          0.3417,  0.3925, -0.8692],\n",
       "        [-0.5439, -1.3934,  0.7139, -0.5885,  0.8458, -1.1419,  0.0463, -0.3420,\n",
       "          0.3114, -0.3407,  0.5487, -0.0696, -1.9661,  0.1766, -1.3382,  0.2794,\n",
       "          0.8767,  1.5456,  1.4033, -0.0605,  1.3084,  2.0475,  0.0162, -0.7472,\n",
       "          1.0953, -0.3027,  1.2843],\n",
       "        [-0.9943, -0.5011,  1.8500, -0.3408,  0.5594,  0.6484,  2.1022, -0.0285,\n",
       "         -0.2342,  0.3915, -0.7299,  0.8860, -1.9339,  0.1852, -1.0022, -0.2668,\n",
       "          1.8178,  0.5679,  0.9678, -0.8897, -0.5634, -0.3284,  2.3458, -0.4564,\n",
       "         -0.6109, -1.5439,  2.7890],\n",
       "        [-0.9943, -0.5011,  1.8500, -0.3408,  0.5594,  0.6484,  2.1022, -0.0285,\n",
       "         -0.2342,  0.3915, -0.7299,  0.8860, -1.9339,  0.1852, -1.0022, -0.2668,\n",
       "          1.8178,  0.5679,  0.9678, -0.8897, -0.5634, -0.3284,  2.3458, -0.4564,\n",
       "         -0.6109, -1.5439,  2.7890],\n",
       "        [ 1.9138,  0.0395,  0.5703,  0.2390, -0.7892, -0.9127,  1.2014,  0.4785,\n",
       "          0.4064, -1.0086, -0.6425, -0.6718,  0.5521,  1.6451,  0.6768,  0.4728,\n",
       "          0.1685,  0.5688,  0.6314, -1.2342, -0.1201,  1.3888,  0.1619,  0.3315,\n",
       "         -0.7086,  0.3312, -0.3804]], grad_fn=<EmbeddingBackward0>)"
      ]
     },
     "execution_count": 57,
     "metadata": {},
     "output_type": "execute_result"
    }
   ],
   "source": [
    "E(idx)"
   ]
  },
  {
   "cell_type": "code",
   "execution_count": 83,
   "id": "f9613bc6-b62b-4a11-814e-88fa834a18d3",
   "metadata": {},
   "outputs": [
    {
     "name": "stdout",
     "output_type": "stream",
     "text": [
      "[(['forty', 'When'], 'winters'), (['winters', 'forty'], 'shall'), (['shall', 'winters'], 'besiege')]\n"
     ]
    }
   ],
   "source": []
  },
  {
   "cell_type": "code",
   "execution_count": null,
   "id": "703ec3c8-6c72-409d-8f67-b74bb0e74c95",
   "metadata": {},
   "outputs": [],
   "source": []
  }
 ],
 "metadata": {
  "kernelspec": {
   "display_name": "Python 3 (ipykernel)",
   "language": "python",
   "name": "python3"
  },
  "language_info": {
   "codemirror_mode": {
    "name": "ipython",
    "version": 3
   },
   "file_extension": ".py",
   "mimetype": "text/x-python",
   "name": "python",
   "nbconvert_exporter": "python",
   "pygments_lexer": "ipython3",
   "version": "3.10.10"
  }
 },
 "nbformat": 4,
 "nbformat_minor": 5
}
